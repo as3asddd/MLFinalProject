{
  "nbformat": 4,
  "nbformat_minor": 0,
  "metadata": {
    "colab": {
      "name": "CodeOfFinalProj.ipynb",
      "provenance": [],
      "collapsed_sections": [],
      "toc_visible": true,
      "authorship_tag": "ABX9TyP4lV94tuPH/42AyNARamtH",
      "include_colab_link": true
    },
    "kernelspec": {
      "name": "python3",
      "display_name": "Python 3"
    },
    "accelerator": "GPU"
  },
  "cells": [
    {
      "cell_type": "markdown",
      "metadata": {
        "id": "view-in-github",
        "colab_type": "text"
      },
      "source": [
        "<a href=\"https://colab.research.google.com/github/as3asddd/MLFinalProject/blob/main/Fine-Pruning%20Approach%20On%20Repairing%20BadNet.ipynb\" target=\"_parent\"><img src=\"https://colab.research.google.com/assets/colab-badge.svg\" alt=\"Open In Colab\"/></a>"
      ]
    },
    {
      "cell_type": "markdown",
      "metadata": {
        "id": "5KZlwkVJ3u5G"
      },
      "source": [
        "# Fine-Pruning Approach On Repairing BadNet"
      ]
    },
    {
      "cell_type": "markdown",
      "metadata": {
        "id": "4PppMjjqq6ga"
      },
      "source": [
        "Co-Worker:  \r\n",
        "Tieliu Zhou, tz1430, N14973953;  \r\n",
        "Juntao Jiang, jj2910, N10249972;  \r\n",
        "Kangning Li, kl3596, N12602103;  \r\n",
        "Jiazhen Han, jh6419, \r\n"
      ]
    },
    {
      "cell_type": "markdown",
      "metadata": {
        "id": "1tjETdgrOK0d"
      },
      "source": [
        "## Data Preparation\r\n",
        "\r\n"
      ]
    },
    {
      "cell_type": "markdown",
      "metadata": {
        "id": "YaDnQ0p_KePT"
      },
      "source": [
        "This code is to download the data,  \r\n",
        "if the execution fails because of permission,  \r\n",
        "please execute the fourth code and put the data in the matching position."
      ]
    },
    {
      "cell_type": "code",
      "metadata": {
        "colab": {
          "base_uri": "https://localhost:8080/"
        },
        "id": "nUcKRv5HOOAD",
        "outputId": "6bae2c65-a161-46eb-c11d-fbf4b27a08d9"
      },
      "source": [
        "!git clone https://github.com/csaw-hackml/CSAW-HackML-2020.git\r\n",
        "\r\n",
        "!gdown https://drive.google.com/uc?id=19OKCkY2CjV3ASkOe6nMSYTsOVcxAoCnA\r\n",
        "!gdown https://drive.google.com/uc?id=1XtYnM-IopU-QYVc99U51EiDvI5zxK0nV\r\n",
        "!gdown https://drive.google.com/uc?id=1XFKaTse6gflUFK7lDPxXBUaq4oQA8-qy\r\n",
        "!gdown https://drive.google.com/uc?id=145qetPRDNRfvNXjjHhHFwPZ8CMfBUGOp\r\n",
        "\r\n",
        "!mkdir data\r\n",
        "!mkdir data/multi-trigger\r\n",
        "!mv /content/*.h5 /content/data\r\n",
        "\r\n",
        "!gdown https://drive.google.com/uc?id=1SrObV38DPLgsMfpPYTdeX7nzjrEUAEwW\r\n",
        "!gdown https://drive.google.com/uc?id=1TiBviHoi-nh-aDRCP-1ZQlP0Nis6wOCw\r\n",
        "!gdown https://drive.google.com/uc?id=1TiBviHoi-nh-aDRCP-1ZQlP0Nis6wOCw\r\n",
        "!mv /content/*.h5 /content/data/multi-trigger"
      ],
      "execution_count": null,
      "outputs": [
        {
          "output_type": "stream",
          "text": [
            "Cloning into 'CSAW-HackML-2020'...\n",
            "remote: Enumerating objects: 23, done.\u001b[K\n",
            "remote: Counting objects: 100% (23/23), done.\u001b[K\n",
            "remote: Compressing objects: 100% (17/17), done.\u001b[K\n",
            "remote: Total 164 (delta 11), reused 18 (delta 6), pack-reused 141\u001b[K\n",
            "Receiving objects: 100% (164/164), 79.56 MiB | 37.23 MiB/s, done.\n",
            "Resolving deltas: 100% (54/54), done.\n",
            "Permission denied: https://drive.google.com/uc?id=1XtYnM-IopU-QYVc99U51EiDvI5zxK0nV\n",
            "Maybe you need to change permission over 'Anyone with the link'?\n",
            "Permission denied: https://drive.google.com/uc?id=1XtYnM-IopU-QYVc99U51EiDvI5zxK0nV\n",
            "Maybe you need to change permission over 'Anyone with the link'?\n",
            "Permission denied: https://drive.google.com/uc?id=1XFKaTse6gflUFK7lDPxXBUaq4oQA8-qy\n",
            "Maybe you need to change permission over 'Anyone with the link'?\n",
            "Permission denied: https://drive.google.com/uc?id=145qetPRDNRfvNXjjHhHFwPZ8CMfBUGOp\n",
            "Maybe you need to change permission over 'Anyone with the link'?\n",
            "mv: cannot stat '/content/*.h5': No such file or directory\n",
            "Permission denied: https://drive.google.com/uc?id=1SrObV38DPLgsMfpPYTdeX7nzjrEUAEwW\n",
            "Maybe you need to change permission over 'Anyone with the link'?\n",
            "Permission denied: https://drive.google.com/uc?id=1TiBviHoi-nh-aDRCP-1ZQlP0Nis6wOCw\n",
            "Maybe you need to change permission over 'Anyone with the link'?\n",
            "Permission denied: https://drive.google.com/uc?id=1TiBviHoi-nh-aDRCP-1ZQlP0Nis6wOCw\n",
            "Maybe you need to change permission over 'Anyone with the link'?\n",
            "mv: cannot stat '/content/*.h5': No such file or directory\n"
          ],
          "name": "stdout"
        }
      ]
    },
    {
      "cell_type": "code",
      "metadata": {
        "id": "iHN9_-ZTOpVF"
      },
      "source": [
        "import os\r\n",
        "import sys\r\n",
        "import gdown\r\n",
        "import tempfile\r\n",
        "import copy\r\n",
        "import keras\r\n",
        "import keras.backend as K\r\n",
        "from keras import metrics\r\n",
        "import h5py\r\n",
        "import numpy as np\r\n",
        "import tensorflow as tf\r\n",
        "\r\n",
        "\r\n",
        "K.clear_session()\r\n",
        "\r\n",
        "if not tf.config.experimental.list_physical_devices('GPU'):\r\n",
        "    raise Exception(\"Please change runtime type to GPU\")\r\n",
        "!pip install -q tensorflow-model-optimization\r\n",
        "import tensorflow_model_optimization as tfmot"
      ],
      "execution_count": null,
      "outputs": []
    },
    {
      "cell_type": "code",
      "metadata": {
        "id": "bH2p1GjRSwdQ"
      },
      "source": [
        "def data_preprocess(x_data):\r\n",
        "    return x_data/255\r\n",
        "\r\n",
        "def data_loader(filepath):\r\n",
        "    data = h5py.File(filepath, 'r')\r\n",
        "    x_data = np.array(data['data'])\r\n",
        "    y_data = np.array(data['label'])\r\n",
        "    x_data = x_data.transpose((0,2,3,1))\r\n",
        "\r\n",
        "    return data_preprocess(x_data), y_data"
      ],
      "execution_count": null,
      "outputs": []
    },
    {
      "cell_type": "markdown",
      "metadata": {
        "id": "84LI_S13KATe"
      },
      "source": [
        "The code below is also for downloading data,  \r\n",
        "so if the first code is executed,  \r\n",
        "there is no need to execute this one."
      ]
    },
    {
      "cell_type": "code",
      "metadata": {
        "colab": {
          "base_uri": "https://localhost:8080/"
        },
        "id": "pTnTWOtFFCSm",
        "outputId": "fd537a07-4d74-44e3-cd50-803a4cabe8a1"
      },
      "source": [
        "path = \"/content/\"\r\n",
        "\r\n",
        "os.chdir(path)\r\n",
        "os.listdir(path)\r\n",
        "!git clone https://github.com/csaw-hackml/CSAW-HackML-2020.git\r\n",
        "\r\n",
        "from google.colab import drive\r\n",
        "drive.mount('/content/drive/')\r\n",
        "\r\n",
        "path = \"/content/drive/My Drive/ML For Cyber\"\r\n",
        "os.chdir(path)\r\n",
        "os.listdir(path)"
      ],
      "execution_count": null,
      "outputs": [
        {
          "output_type": "stream",
          "text": [
            "fatal: destination path 'CSAW-HackML-2020' already exists and is not an empty directory.\n",
            "Drive already mounted at /content/drive/; to attempt to forcibly remount, call drive.mount(\"/content/drive/\", force_remount=True).\n"
          ],
          "name": "stdout"
        },
        {
          "output_type": "execute_result",
          "data": {
            "text/plain": [
              "['Assignment1',\n",
              " 'CSAW-HackML-2020-master',\n",
              " 'face',\n",
              " 'data',\n",
              " 'CSAW-HackML-2020',\n",
              " 'RepairedNet']"
            ]
          },
          "metadata": {
            "tags": []
          },
          "execution_count": 4
        }
      ]
    },
    {
      "cell_type": "markdown",
      "metadata": {
        "id": "7Njx2F7QO03j"
      },
      "source": [
        "### Load Data"
      ]
    },
    {
      "cell_type": "code",
      "metadata": {
        "id": "n2WkDo5VUwqa"
      },
      "source": [
        "clean_validation_data_path = \"data/clean_validation_data.h5\"\r\n",
        "clean_validation_data, clean_v_y = data_loader(clean_validation_data_path)\r\n",
        "\r\n",
        "clean_test_data_path = \"data/clean_test_data.h5\"\r\n",
        "clean_test_data, clean_t_y = data_loader(clean_test_data_path)\r\n",
        "\r\n",
        "sunglass_poisoned_test_data_path = \"data/sunglasses_poisoned_data.h5\"\r\n",
        "sunglass_poisoned_test_data, sun_p_t_y = data_loader(sunglass_poisoned_test_data_path)\r\n",
        "\r\n",
        "anonymous_poisoned_data_path = \"data/anonymous_1_poisoned_data.h5\"\r\n",
        "anonymous_poisoned_data, ano_p_y = data_loader(anonymous_poisoned_data_path)"
      ],
      "execution_count": null,
      "outputs": []
    },
    {
      "cell_type": "markdown",
      "metadata": {
        "id": "mahWQawfQAYV"
      },
      "source": [
        "For Multi-trigger Multi-target"
      ]
    },
    {
      "cell_type": "code",
      "metadata": {
        "id": "HmzmYKhDROJP"
      },
      "source": [
        "eyebrows_poisoned_data_path = \"data/multi-trigger/eyebrows_poisoned_data.h5\"\r\n",
        "eyebrows_poisoned_data, eye_p_y = data_loader(eyebrows_poisoned_data_path)\r\n",
        "\r\n",
        "lipstick_poisoned_data_path = \"data/multi-trigger/lipstick_poisoned_data.h5\"\r\n",
        "lipstick_poisoned_data, lip_p_y = data_loader(lipstick_poisoned_data_path)\r\n",
        "\r\n",
        "sunglass_poisoned_data_path = \"data/multi-trigger/sunglasses_poisoned_data.h5\"\r\n",
        "sunglass_poisoned_data, sun_p_y = data_loader(sunglass_poisoned_data_path)"
      ],
      "execution_count": null,
      "outputs": []
    },
    {
      "cell_type": "code",
      "metadata": {
        "colab": {
          "base_uri": "https://localhost:8080/"
        },
        "id": "qTn9JsINEBcs",
        "outputId": "6ea17f3b-3617-4ab3-f2e0-b5d01d1ffb7a"
      },
      "source": [
        "path = \"/content/\"\r\n",
        "\r\n",
        "os.chdir(path)\r\n",
        "os.listdir(path)"
      ],
      "execution_count": null,
      "outputs": [
        {
          "output_type": "execute_result",
          "data": {
            "text/plain": [
              "['.config', 'drive', 'CSAW-HackML-2020', 'sample_data']"
            ]
          },
          "metadata": {
            "tags": []
          },
          "execution_count": 7
        }
      ]
    },
    {
      "cell_type": "markdown",
      "metadata": {
        "id": "6vroU6QMPJam"
      },
      "source": [
        "### Data Transformation"
      ]
    },
    {
      "cell_type": "code",
      "metadata": {
        "colab": {
          "base_uri": "https://localhost:8080/"
        },
        "id": "cdf8oykTwZdr",
        "outputId": "f6070527-b2df-4f3a-ce50-e424dccfdf9d"
      },
      "source": [
        "print(np.min(clean_t_y))\r\n",
        "print(np.max(clean_t_y))"
      ],
      "execution_count": null,
      "outputs": [
        {
          "output_type": "stream",
          "text": [
            "0\n",
            "1282\n"
          ],
          "name": "stdout"
        }
      ]
    },
    {
      "cell_type": "markdown",
      "metadata": {
        "id": "BmnoEN-Ix0xq"
      },
      "source": [
        "The labels' range is 0 to 1282. (0~N, N=1282, total=1283)"
      ]
    },
    {
      "cell_type": "code",
      "metadata": {
        "colab": {
          "base_uri": "https://localhost:8080/"
        },
        "id": "289HX4M3Pc45",
        "outputId": "eaa9d378-b48b-4380-a4bd-2b00be79f930"
      },
      "source": [
        "c_t_x = clean_test_data\r\n",
        "c_t_y = keras.utils.to_categorical(clean_t_y, np.max(clean_t_y).astype(np.int32) + 1)\r\n",
        "print(c_t_x.shape)\r\n",
        "print(c_t_y.shape)\r\n",
        "\r\n",
        "c_v_x = clean_validation_data\r\n",
        "c_v_y = keras.utils.to_categorical(clean_v_y, np.max(clean_v_y).astype(np.int32) + 1)\r\n",
        "print(c_v_x.shape)\r\n",
        "print(c_v_y.shape)\r\n",
        "\r\n",
        "s_p_x = sunglass_poisoned_test_data\r\n",
        "s_p_y = keras.utils.to_categorical(sun_p_t_y, 1283)\r\n",
        "print(s_p_x.shape)\r\n",
        "print(s_p_y.shape)\r\n",
        "\r\n",
        "a_p_x = anonymous_poisoned_data\r\n",
        "a_p_y = keras.utils.to_categorical(ano_p_y, 1283)\r\n",
        "print(a_p_x.shape)\r\n",
        "print(a_p_y.shape)"
      ],
      "execution_count": null,
      "outputs": [
        {
          "output_type": "stream",
          "text": [
            "(12830, 55, 47, 3)\n",
            "(12830, 1283)\n",
            "(11547, 55, 47, 3)\n",
            "(11547, 1283)\n",
            "(12830, 55, 47, 3)\n",
            "(12830, 1283)\n",
            "(10264, 55, 47, 3)\n",
            "(10264, 1283)\n"
          ],
          "name": "stdout"
        }
      ]
    },
    {
      "cell_type": "markdown",
      "metadata": {
        "id": "HVF0ArAjUIHr"
      },
      "source": [
        "## Load Models"
      ]
    },
    {
      "cell_type": "code",
      "metadata": {
        "id": "T4ZZsnT-T_gi"
      },
      "source": [
        "B1_path = \"CSAW-HackML-2020/models/sunglasses_bd_net.h5\"\r\n",
        "B1_weights = \"CSAW-HackML-2020/models/sunglasses_bd_weights.h5\"\r\n",
        "B1 = keras.models.load_model(B1_path)\r\n",
        "B1.load_weights(B1_weights)\r\n",
        "#B1.summary()\r\n",
        "\r\n",
        "B2_path = \"CSAW-HackML-2020/models/anonymous_1_bd_net.h5\"\r\n",
        "B2_weights = \"CSAW-HackML-2020/models/anonymous_1_bd_weights.h5\"\r\n",
        "B2 = keras.models.load_model(B2_path)\r\n",
        "B2.load_weights(B2_weights)\r\n",
        "#B2.summary()\r\n",
        "\r\n",
        "B3_path = \"CSAW-HackML-2020/models/anonymous_2_bd_net.h5\"\r\n",
        "B3_weights = \"CSAW-HackML-2020/models/anonymous_2_bd_weights.h5\"\r\n",
        "B3 = keras.models.load_model(B3_path)\r\n",
        "B3.load_weights(B3_weights)\r\n",
        "#B3.summary()\r\n",
        "\r\n",
        "BN_path = \"CSAW-HackML-2020/models/multi_trigger_multi_target_bd_net.h5\"\r\n",
        "BN_weights = \"CSAW-HackML-2020/models/multi_trigger_multi_target_bd_weights.h5\"\r\n",
        "BN = keras.models.load_model(BN_path)\r\n",
        "BN.load_weights(BN_weights)\r\n",
        "#B4.summary()"
      ],
      "execution_count": null,
      "outputs": []
    },
    {
      "cell_type": "code",
      "metadata": {
        "id": "exRI8mHBde0K"
      },
      "source": [
        "B = [B1,B2,B3,BN]"
      ],
      "execution_count": null,
      "outputs": []
    },
    {
      "cell_type": "markdown",
      "metadata": {
        "id": "igYspGJter9S"
      },
      "source": [
        "### Evaluate the original models"
      ]
    },
    {
      "cell_type": "code",
      "metadata": {
        "id": "gYp-G1u7eRUh"
      },
      "source": [
        "def validation(y, y_hat):\r\n",
        "    n = 0\r\n",
        "    for i, v in enumerate(y):\r\n",
        "        correct = 1 if np.argmax(v) == np.argmax(y_hat[i]) else 0\r\n",
        "        n+= correct \r\n",
        "    return n/(i + 1)\r\n",
        "\r\n",
        "def eval_on_test(B):\r\n",
        "  for i, b in enumerate(B):\r\n",
        "    K.clear_session()\r\n",
        "    c_y_hat = b.predict(c_t_x)\r\n",
        "    bi = \"N\" if (i+1)==4 else \"{t}\".format(t=(i+1))\r\n",
        "    print(\"B{bi}\".format(bi = bi),\"on clean_test_data accuracy: \",validation(c_t_y, c_y_hat)) \r\n",
        "    s_p_y_hat = b.predict(s_p_x)\r\n",
        "    print(\"B{bi}\".format(bi = bi),\"on sunglasses_poisoned_data accuracy: \",validation(s_p_y, s_p_y_hat))\r\n",
        "    a_p_y_hat = b.predict(a_p_x)\r\n",
        "    print(\"B{bi}\".format(bi = bi),\"on anonymous_1_poisoned_data: \",validation(a_p_y, a_p_y_hat))\r\n",
        "    print(\"\\n\")\r\n",
        "\r\n",
        "def my_eval(models, category, name):\r\n",
        "  for i,m in enumerate(models):\r\n",
        "    mi = \"N\" if (i+1)==4 else \"{t}\".format(t=(i+1))\r\n",
        "    print(\"{str} {T}{mi}\".format(str=category, T=name, mi=mi),\"on clean_test_data:\")\r\n",
        "    m.evaluate(c_t_x, c_t_y, verbose=2)\r\n",
        "    print(\"{str} {T}{mi}\".format(str=category, T=name, mi=mi),\"on sunglasses_poisoned_data:\")\r\n",
        "    m.evaluate(s_p_x, s_p_y, verbose=2)\r\n",
        "    print(\"{str} {T}{mi}\".format(str=category, T=name, mi=mi),\"on anonymous_1_poisoned_data:\")\r\n",
        "    m.evaluate(a_p_x, a_p_y, verbose=2)\r\n",
        "    print(\"\\n\"); "
      ],
      "execution_count": null,
      "outputs": []
    },
    {
      "cell_type": "code",
      "metadata": {
        "colab": {
          "base_uri": "https://localhost:8080/"
        },
        "id": "v1Nm6MpLhO8g",
        "outputId": "6b473c3a-592c-4a07-f961-f674de88f927"
      },
      "source": [
        "eval_on_test(B)"
      ],
      "execution_count": null,
      "outputs": [
        {
          "output_type": "stream",
          "text": [
            "B1 on clean_test_data accuracy:  0.9777864380358535\n",
            "B1 on sunglasses_poisoned_data accuracy:  0.9999220576773188\n",
            "B1 on anonymous_1_poisoned_data:  0.0010717069368667187\n",
            "\n",
            "\n",
            "B2 on clean_test_data accuracy:  0.971862821512081\n",
            "B2 on sunglasses_poisoned_data accuracy:  0.0\n",
            "B2 on anonymous_1_poisoned_data:  0.913971161340608\n",
            "\n",
            "\n",
            "B3 on clean_test_data accuracy:  0.9596258768511302\n",
            "B3 on sunglasses_poisoned_data accuracy:  0.0\n",
            "B3 on anonymous_1_poisoned_data:  0.0\n",
            "\n",
            "\n",
            "BN on clean_test_data accuracy:  0.9600935307872175\n",
            "BN on sunglasses_poisoned_data accuracy:  0.0\n",
            "BN on anonymous_1_poisoned_data:  0.0\n",
            "\n",
            "\n"
          ],
          "name": "stdout"
        }
      ]
    },
    {
      "cell_type": "markdown",
      "metadata": {
        "id": "UaFYpoHCNvdG"
      },
      "source": [
        "## Fine-Pruning"
      ]
    },
    {
      "cell_type": "markdown",
      "metadata": {
        "id": "qmGf-xoRrutU"
      },
      "source": [
        "### Prune"
      ]
    },
    {
      "cell_type": "markdown",
      "metadata": {
        "id": "xOdA-LZU4KRV"
      },
      "source": [
        "Code Referrence:  \r\n",
        "https://www.tensorflow.org/model_optimization/guide/pruning/pruning_with_keras  \r\n",
        "https://blog.csdn.net/leo_whj/article/details/108624915"
      ]
    },
    {
      "cell_type": "code",
      "metadata": {
        "id": "Vk2RblsQvpYV"
      },
      "source": [
        "# train = clean_validation\r\n",
        "def Prune(B, train_data, train_labels): \r\n",
        "  pruned_models = []\r\n",
        "  for i, b in enumerate(B):\r\n",
        "    prune_low_magnitude = tfmot.sparsity.keras.prune_low_magnitude\r\n",
        "\r\n",
        "    # Compute end step to finish pruning after 2 epochs.\r\n",
        "    # batch_size = 128\r\n",
        "    epochs = 3\r\n",
        "    validation_split = 0.1 # 10% of training set will be used for validation set.\r\n",
        "    num_data = train_data.shape[0] * (1 - validation_split)\r\n",
        "    end_step = np.ceil(num_data).astype(np.int32) * epochs \r\n",
        "\r\n",
        "    # Define model for pruning.\r\n",
        "    pruning_params = {\r\n",
        "      'pruning_schedule': tfmot.sparsity.keras.PolynomialDecay(initial_sparsity=0.50,\r\n",
        "                                                               final_sparsity=0.80,\r\n",
        "                                                               begin_step=0,\r\n",
        "                                                               end_step=end_step)\r\n",
        "    }\r\n",
        "\r\n",
        "    model_for_pruning = prune_low_magnitude(b, **pruning_params)\r\n",
        "\r\n",
        "    # `prune_low_magnitude` requires a recompile.\r\n",
        "    model_for_pruning.compile(optimizer='adam',\r\n",
        "              loss=tf.keras.losses.categorical_crossentropy,\r\n",
        "              metrics=metrics.categorical_accuracy)\r\n",
        "    \r\n",
        "    #Train and evaluate the model against baseline\r\n",
        "    logdir = tempfile.mkdtemp()\r\n",
        "\r\n",
        "    callbacks = [\r\n",
        "      tfmot.sparsity.keras.UpdatePruningStep(),\r\n",
        "      tfmot.sparsity.keras.PruningSummaries(log_dir=logdir),\r\n",
        "    ]\r\n",
        "    model_for_pruning.fit(train_data, train_labels,\r\n",
        "                  epochs=epochs, validation_split=validation_split,\r\n",
        "                  callbacks=callbacks)\r\n",
        "\r\n",
        "    pruned_models.append(model_for_pruning)\r\n",
        "\r\n",
        "  return pruned_models  "
      ],
      "execution_count": null,
      "outputs": []
    },
    {
      "cell_type": "code",
      "metadata": {
        "colab": {
          "base_uri": "https://localhost:8080/"
        },
        "id": "j98KqqyGrzkr",
        "outputId": "1a59c9ef-0774-42e4-9997-60faaacc7909"
      },
      "source": [
        "pruned_models = Prune(B, c_v_x, c_v_y)"
      ],
      "execution_count": null,
      "outputs": [
        {
          "output_type": "stream",
          "text": [
            "/usr/local/lib/python3.6/dist-packages/tensorflow/python/keras/engine/base_layer.py:2281: UserWarning: `layer.add_variable` is deprecated and will be removed in a future version. Please use `layer.add_weight` method instead.\n",
            "  warnings.warn('`layer.add_variable` is deprecated and '\n"
          ],
          "name": "stderr"
        },
        {
          "output_type": "stream",
          "text": [
            "Epoch 1/3\n",
            "  3/325 [..............................] - ETA: 34s - loss: 0.5891 - categorical_accuracy: 0.8976WARNING:tensorflow:Callback method `on_train_batch_end` is slow compared to the batch time (batch time: 0.0152s vs `on_train_batch_end` time: 0.0274s). Check your callbacks.\n",
            "325/325 [==============================] - 16s 19ms/step - loss: 0.8060 - categorical_accuracy: 0.8473 - val_loss: 0.5359 - val_categorical_accuracy: 0.8918\n",
            "Epoch 2/3\n",
            "325/325 [==============================] - 5s 16ms/step - loss: 0.1782 - categorical_accuracy: 0.9634 - val_loss: 0.5563 - val_categorical_accuracy: 0.8952\n",
            "Epoch 3/3\n",
            "325/325 [==============================] - 5s 16ms/step - loss: 0.0996 - categorical_accuracy: 0.9726 - val_loss: 0.7092 - val_categorical_accuracy: 0.8823\n",
            "Epoch 1/3\n",
            "  6/325 [..............................] - ETA: 22s - loss: 0.2299 - categorical_accuracy: 0.9181WARNING:tensorflow:Callback method `on_train_batch_end` is slow compared to the batch time (batch time: 0.0118s vs `on_train_batch_end` time: 0.0456s). Check your callbacks.\n",
            "325/325 [==============================] - 9s 18ms/step - loss: 0.4987 - categorical_accuracy: 0.8995 - val_loss: 0.3253 - val_categorical_accuracy: 0.9385\n",
            "Epoch 2/3\n",
            "325/325 [==============================] - 5s 17ms/step - loss: 0.1063 - categorical_accuracy: 0.9762 - val_loss: 0.3457 - val_categorical_accuracy: 0.9255\n",
            "Epoch 3/3\n",
            "325/325 [==============================] - 5s 17ms/step - loss: 0.0566 - categorical_accuracy: 0.9870 - val_loss: 0.4502 - val_categorical_accuracy: 0.9082\n",
            "Epoch 1/3\n",
            "  3/325 [..............................] - ETA: 50s - loss: 0.3972 - categorical_accuracy: 0.8594WARNING:tensorflow:Callback method `on_train_batch_end` is slow compared to the batch time (batch time: 0.0117s vs `on_train_batch_end` time: 0.0469s). Check your callbacks.\n",
            "325/325 [==============================] - 9s 18ms/step - loss: 0.4464 - categorical_accuracy: 0.8980 - val_loss: 0.2958 - val_categorical_accuracy: 0.9264\n",
            "Epoch 2/3\n",
            "325/325 [==============================] - 5s 16ms/step - loss: 0.0817 - categorical_accuracy: 0.9777 - val_loss: 0.3218 - val_categorical_accuracy: 0.9229\n",
            "Epoch 3/3\n",
            "325/325 [==============================] - 5s 16ms/step - loss: 0.0371 - categorical_accuracy: 0.9905 - val_loss: 0.3851 - val_categorical_accuracy: 0.9177\n",
            "Epoch 1/3\n",
            "  3/325 [..............................] - ETA: 50s - loss: 0.4060 - categorical_accuracy: 0.8819WARNING:tensorflow:Callback method `on_train_batch_end` is slow compared to the batch time (batch time: 0.0129s vs `on_train_batch_end` time: 0.0463s). Check your callbacks.\n",
            "325/325 [==============================] - 8s 18ms/step - loss: 0.4623 - categorical_accuracy: 0.8937 - val_loss: 0.3750 - val_categorical_accuracy: 0.9134\n",
            "Epoch 2/3\n",
            "325/325 [==============================] - 5s 17ms/step - loss: 0.0941 - categorical_accuracy: 0.9753 - val_loss: 0.3624 - val_categorical_accuracy: 0.9169\n",
            "Epoch 3/3\n",
            "325/325 [==============================] - 5s 16ms/step - loss: 0.0386 - categorical_accuracy: 0.9884 - val_loss: 0.4235 - val_categorical_accuracy: 0.9160\n"
          ],
          "name": "stdout"
        }
      ]
    },
    {
      "cell_type": "markdown",
      "metadata": {
        "id": "4a_ElKvF3m9W"
      },
      "source": [
        "### Fine-tune"
      ]
    },
    {
      "cell_type": "code",
      "metadata": {
        "id": "sfmykS6r7BsQ"
      },
      "source": [
        "def Fine_tune(pruned_models, train_data, train_labels):\r\n",
        "  repaired_models = []\r\n",
        "  for i, pm in enumerate(pruned_models):\r\n",
        "    G = copy.copy(pm)\r\n",
        "    epochs = 5\r\n",
        "    validation_split = 0.1\r\n",
        "\r\n",
        "    G.compile(optimizer='adam',\r\n",
        "              loss=tf.keras.losses.categorical_crossentropy,\r\n",
        "              metrics=metrics.categorical_accuracy)\r\n",
        "\r\n",
        "    G.fit(train_data, train_labels,\r\n",
        "          epochs=epochs, \r\n",
        "          validation_split=validation_split)\r\n",
        "    \r\n",
        "    repaired_models.append(G)\r\n",
        "\r\n",
        "  return repaired_models\r\n"
      ],
      "execution_count": null,
      "outputs": []
    },
    {
      "cell_type": "code",
      "metadata": {
        "colab": {
          "base_uri": "https://localhost:8080/"
        },
        "id": "KUaOJvSO8Lqk",
        "outputId": "ced49360-640a-40fe-9327-ef294860b048"
      },
      "source": [
        "G = Fine_tune(pruned_models, c_v_x, c_v_y)"
      ],
      "execution_count": null,
      "outputs": [
        {
          "output_type": "stream",
          "text": [
            "Epoch 1/5\n",
            "325/325 [==============================] - 7s 14ms/step - loss: 0.2113 - categorical_accuracy: 0.9406 - val_loss: 0.8144 - val_categorical_accuracy: 0.8736\n",
            "Epoch 2/5\n",
            "325/325 [==============================] - 4s 13ms/step - loss: 0.0995 - categorical_accuracy: 0.9713 - val_loss: 0.8909 - val_categorical_accuracy: 0.8745\n",
            "Epoch 3/5\n",
            "325/325 [==============================] - 4s 13ms/step - loss: 0.0892 - categorical_accuracy: 0.9721 - val_loss: 1.0219 - val_categorical_accuracy: 0.8554\n",
            "Epoch 4/5\n",
            "325/325 [==============================] - 4s 13ms/step - loss: 0.0862 - categorical_accuracy: 0.9774 - val_loss: 0.9636 - val_categorical_accuracy: 0.8537\n",
            "Epoch 5/5\n",
            "325/325 [==============================] - 4s 13ms/step - loss: 0.0862 - categorical_accuracy: 0.9771 - val_loss: 1.0579 - val_categorical_accuracy: 0.8519\n",
            "Epoch 1/5\n",
            "325/325 [==============================] - 7s 14ms/step - loss: 0.1050 - categorical_accuracy: 0.9684 - val_loss: 0.4712 - val_categorical_accuracy: 0.9082\n",
            "Epoch 2/5\n",
            "325/325 [==============================] - 4s 13ms/step - loss: 0.0574 - categorical_accuracy: 0.9831 - val_loss: 0.6216 - val_categorical_accuracy: 0.8857\n",
            "Epoch 3/5\n",
            "325/325 [==============================] - 4s 13ms/step - loss: 0.0732 - categorical_accuracy: 0.9780 - val_loss: 0.6196 - val_categorical_accuracy: 0.8866\n",
            "Epoch 4/5\n",
            "325/325 [==============================] - 4s 13ms/step - loss: 0.0563 - categorical_accuracy: 0.9833 - val_loss: 0.6728 - val_categorical_accuracy: 0.8848\n",
            "Epoch 5/5\n",
            "325/325 [==============================] - 4s 13ms/step - loss: 0.0624 - categorical_accuracy: 0.9821 - val_loss: 0.6981 - val_categorical_accuracy: 0.8779\n",
            "Epoch 1/5\n",
            "325/325 [==============================] - 7s 13ms/step - loss: 0.0826 - categorical_accuracy: 0.9756 - val_loss: 0.4940 - val_categorical_accuracy: 0.8892\n",
            "Epoch 2/5\n",
            "325/325 [==============================] - 4s 13ms/step - loss: 0.0638 - categorical_accuracy: 0.9823 - val_loss: 0.4562 - val_categorical_accuracy: 0.9177\n",
            "Epoch 3/5\n",
            "325/325 [==============================] - 4s 13ms/step - loss: 0.0470 - categorical_accuracy: 0.9882 - val_loss: 0.5584 - val_categorical_accuracy: 0.9100\n",
            "Epoch 4/5\n",
            "325/325 [==============================] - 4s 13ms/step - loss: 0.0601 - categorical_accuracy: 0.9845 - val_loss: 0.6570 - val_categorical_accuracy: 0.8866\n",
            "Epoch 5/5\n",
            "325/325 [==============================] - 4s 13ms/step - loss: 0.0571 - categorical_accuracy: 0.9830 - val_loss: 0.6026 - val_categorical_accuracy: 0.8996\n",
            "Epoch 1/5\n",
            "325/325 [==============================] - 7s 14ms/step - loss: 0.0837 - categorical_accuracy: 0.9774 - val_loss: 0.5296 - val_categorical_accuracy: 0.8978\n",
            "Epoch 2/5\n",
            "325/325 [==============================] - 4s 13ms/step - loss: 0.0569 - categorical_accuracy: 0.9836 - val_loss: 0.5223 - val_categorical_accuracy: 0.9039\n",
            "Epoch 3/5\n",
            "325/325 [==============================] - 4s 14ms/step - loss: 0.0452 - categorical_accuracy: 0.9866 - val_loss: 0.5730 - val_categorical_accuracy: 0.8926\n",
            "Epoch 4/5\n",
            "325/325 [==============================] - 4s 13ms/step - loss: 0.0567 - categorical_accuracy: 0.9827 - val_loss: 0.6049 - val_categorical_accuracy: 0.8857\n",
            "Epoch 5/5\n",
            "325/325 [==============================] - 4s 13ms/step - loss: 0.0609 - categorical_accuracy: 0.9822 - val_loss: 0.6079 - val_categorical_accuracy: 0.8996\n"
          ],
          "name": "stdout"
        }
      ]
    },
    {
      "cell_type": "markdown",
      "metadata": {
        "id": "LUx7OHXt9zm6"
      },
      "source": [
        "### Evaluate Repaired BadNet"
      ]
    },
    {
      "cell_type": "code",
      "metadata": {
        "colab": {
          "base_uri": "https://localhost:8080/"
        },
        "id": "QqbreOap_NNF",
        "outputId": "fe577bca-346a-49bb-d5a5-0b1d06d3af08"
      },
      "source": [
        "my_eval(G, \"Repaired\",\"G\")"
      ],
      "execution_count": null,
      "outputs": [
        {
          "output_type": "stream",
          "text": [
            "Repaired G1 on clean_test_data:\n",
            "401/401 - 1s - loss: 0.9278 - categorical_accuracy: 0.8683\n",
            "Repaired G1 on sunglasses_poisoned_data:\n",
            "401/401 - 1s - loss: 13.5371 - categorical_accuracy: 0.0811\n",
            "Repaired G1 on anonymous_1_poisoned_data:\n",
            "321/321 - 1s - loss: 35.1173 - categorical_accuracy: 0.0012\n",
            "\n",
            "\n",
            "Repaired G2 on clean_test_data:\n",
            "401/401 - 1s - loss: 0.6357 - categorical_accuracy: 0.8985\n",
            "Repaired G2 on sunglasses_poisoned_data:\n",
            "401/401 - 1s - loss: 40.6335 - categorical_accuracy: 0.0000e+00\n",
            "Repaired G2 on anonymous_1_poisoned_data:\n",
            "321/321 - 1s - loss: 10.2133 - categorical_accuracy: 0.0843\n",
            "\n",
            "\n",
            "Repaired G3 on clean_test_data:\n",
            "401/401 - 1s - loss: 0.5639 - categorical_accuracy: 0.9065\n",
            "Repaired G3 on sunglasses_poisoned_data:\n",
            "401/401 - 1s - loss: 72.8628 - categorical_accuracy: 0.0000e+00\n",
            "Repaired G3 on anonymous_1_poisoned_data:\n",
            "321/321 - 1s - loss: 45.2126 - categorical_accuracy: 9.7428e-05\n",
            "\n",
            "\n",
            "Repaired GN on clean_test_data:\n",
            "401/401 - 1s - loss: 0.5886 - categorical_accuracy: 0.9067\n",
            "Repaired GN on sunglasses_poisoned_data:\n",
            "401/401 - 1s - loss: 64.3175 - categorical_accuracy: 0.0000e+00\n",
            "Repaired GN on anonymous_1_poisoned_data:\n",
            "321/321 - 1s - loss: 48.7180 - categorical_accuracy: 1.9486e-04\n",
            "\n",
            "\n"
          ],
          "name": "stdout"
        }
      ]
    },
    {
      "cell_type": "markdown",
      "metadata": {
        "id": "ESV4QmtdS7qf"
      },
      "source": [
        "The accuracy is so low that I think there may be adaptive attck  \r\n",
        "that cannot be solved by simply prune the unactive neurons.  \r\n",
        "Another assumption is that  \r\n",
        "maybe the original sunglass net B1 is a good one, as well as anymous_1 B2,  \r\n",
        "according to the comparation of the result before repairing and after repairing.  \r\n",
        "Therefore, we should use those two data and nets to train and Fine-pruning."
      ]
    },
    {
      "cell_type": "markdown",
      "metadata": {
        "id": "Z_HCyFjQbbVm"
      },
      "source": [
        "### Save Repaired Net"
      ]
    },
    {
      "cell_type": "code",
      "metadata": {
        "id": "LvG6_muJbZ6s"
      },
      "source": [
        "def Save_G(G):\r\n",
        "  for i, g in enumerate(G):\r\n",
        "    gi = \"N\" if (i+1)==4 else \"{t}\".format(t=(i+1))\r\n",
        "    g.save(\"/content/drive/My Drive/ML For Cyber/RepairedNet/G{gi}.h5\".format(gi=gi))\r\n",
        "    g.save_weights(\"/content/drive/My Drive/ML For Cyber/RepairedNet/G{gi}_weights.h5\".format(gi=gi))\r\n",
        "\r\n",
        "Save_G(G)"
      ],
      "execution_count": null,
      "outputs": []
    },
    {
      "cell_type": "markdown",
      "metadata": {
        "id": "xXIWw8ZE_ZNK"
      },
      "source": [
        "## Backdoored data detection"
      ]
    },
    {
      "cell_type": "markdown",
      "metadata": {
        "id": "kVa__qpvqUFK"
      },
      "source": [
        "We classify those different results of BadNets B and RepairedNets G as poisoned inputs  \r\n",
        "that we put them in the N+1 class. (original labels are 0 to N, N=1282, N+1=1283)  \r\n",
        "BN, GN and data that under \"Multi-trigger Multi-target\" are used, as well as clean_validation_data."
      ]
    },
    {
      "cell_type": "code",
      "metadata": {
        "id": "9LPaLrYFqUQD"
      },
      "source": [
        "def backdoor_classify(y_hat_bad, y_hat_repair):\r\n",
        "  new_y_hat = np.zeros((len(y_hat_repair), 1284))\r\n",
        "  for i in range(len(y_hat_repair)): # size of samples\r\n",
        "    pos_1 = np.argmax(y_hat_bad[i])\r\n",
        "    pos_2 = np.argmax(y_hat_repair[i])\r\n",
        "\r\n",
        "    if(pos_1 == pos_2):\r\n",
        "      new_y_hat[i][pos_1] = 1\r\n",
        "    else:\r\n",
        "      new_y_hat[i][-1] = 1\r\n",
        "  return new_y_hat"
      ],
      "execution_count": null,
      "outputs": []
    },
    {
      "cell_type": "markdown",
      "metadata": {
        "id": "vBSLU82H5t_h"
      },
      "source": [
        "### Load Model of BN and GN"
      ]
    },
    {
      "cell_type": "code",
      "metadata": {
        "id": "sGBiJ8jR5fKM"
      },
      "source": [
        "K.clear_session()\r\n",
        "BN = keras.models.load_model(BN_path)\r\n",
        "BN.load_weights(BN_weights)"
      ],
      "execution_count": null,
      "outputs": []
    },
    {
      "cell_type": "code",
      "metadata": {
        "id": "Og3WtGKD6VG3"
      },
      "source": [
        "GN = G[3]\r\n",
        "#GN_path = \"/content/drive/My Drive/ML For Cyber/RepairedNet/GN.h5\"\r\n",
        "#GN_weights = \"/content/drive/My Drive/ML For Cyber/RepairedNet/GN_weights.h5\"\r\n",
        "#GN = keras.models.load_model(GN_path)"
      ],
      "execution_count": null,
      "outputs": []
    },
    {
      "cell_type": "markdown",
      "metadata": {
        "id": "FzMFgqME7KXU"
      },
      "source": [
        "### Data Process"
      ]
    },
    {
      "cell_type": "code",
      "metadata": {
        "colab": {
          "base_uri": "https://localhost:8080/"
        },
        "id": "Wq7sx1vIuK3L",
        "outputId": "e1e656f1-395c-478a-9d2d-350aa1ae9250"
      },
      "source": [
        "n = 1283\r\n",
        "e_p_x = eyebrows_poisoned_data\r\n",
        "e_p_y = keras.utils.to_categorical(eye_p_y, n)\r\n",
        "print(e_p_x.shape)\r\n",
        "print(e_p_y.shape)\r\n",
        "\r\n",
        "l_p_x = lipstick_poisoned_data\r\n",
        "l_p_y = keras.utils.to_categorical(lip_p_y, n)\r\n",
        "print(l_p_x.shape)\r\n",
        "print(l_p_y.shape)\r\n",
        "\r\n",
        "s_p_x2 = sunglass_poisoned_data\r\n",
        "s_p_y2 = keras.utils.to_categorical(sun_p_y, n)\r\n",
        "print(s_p_x2.shape)\r\n",
        "print(s_p_y2.shape)"
      ],
      "execution_count": null,
      "outputs": [
        {
          "output_type": "stream",
          "text": [
            "(10264, 55, 47, 3)\n",
            "(10264, 1283)\n",
            "(10264, 55, 47, 3)\n",
            "(10264, 1283)\n",
            "(10264, 55, 47, 3)\n",
            "(10264, 1283)\n"
          ],
          "name": "stdout"
        }
      ]
    },
    {
      "cell_type": "code",
      "metadata": {
        "id": "YDlq4hgJ8tSW"
      },
      "source": [
        "c_y_hat_bad = BN.predict(c_v_x)\r\n",
        "c_y_hat_repair = GN.predict(c_v_x)\r\n",
        "\r\n",
        "e_y_hat_bad = BN.predict(e_p_x)\r\n",
        "l_y_hat_bad = BN.predict(l_p_x)\r\n",
        "s_y_hat_bad = BN.predict(s_p_x2)\r\n",
        "\r\n",
        "e_y_hat_repair = GN.predict(e_p_x)\r\n",
        "l_y_hat_repair = GN.predict(l_p_x)\r\n",
        "s_y_hat_repair = GN.predict(s_p_x2)\r\n",
        "\r\n",
        "e_new_y_hat = backdoor_classify(e_y_hat_bad, e_y_hat_repair)\r\n",
        "l_new_y_hat = backdoor_classify(l_y_hat_bad, l_y_hat_repair)\r\n",
        "s_new_y_hat = backdoor_classify(s_y_hat_bad, s_y_hat_repair)\r\n",
        "\r\n",
        "c_new_y_hat = backdoor_classify(c_y_hat_bad, c_y_hat_repair)"
      ],
      "execution_count": null,
      "outputs": []
    },
    {
      "cell_type": "code",
      "metadata": {
        "colab": {
          "base_uri": "https://localhost:8080/"
        },
        "id": "Tdr1exNV-B73",
        "outputId": "b5a03768-7753-42e2-a36d-505fdf1e9875"
      },
      "source": [
        "print(c_new_y_hat.shape)"
      ],
      "execution_count": null,
      "outputs": [
        {
          "output_type": "stream",
          "text": [
            "(11547, 1284)\n"
          ],
          "name": "stdout"
        }
      ]
    },
    {
      "cell_type": "markdown",
      "metadata": {
        "id": "lT1-EKIE7NNK"
      },
      "source": [
        "### Evaluate"
      ]
    },
    {
      "cell_type": "code",
      "metadata": {
        "id": "SHPrHaZiExQZ"
      },
      "source": [
        "def N_puls_one_validation(y, y_hat):\r\n",
        "  samples = y.shape[0]\r\n",
        "  count = 0\r\n",
        "  for i in range(samples):\r\n",
        "    if np.argmax(y[i]) == np.argmax(y_hat[i]):\r\n",
        "      count+=1\r\n",
        "\r\n",
        "  acc = float(count)/samples\r\n",
        "  print(\"Accuracy: {ans}\\n\".format(ans=acc))\r\n",
        "  print(\"\\n\")"
      ],
      "execution_count": null,
      "outputs": []
    },
    {
      "cell_type": "code",
      "metadata": {
        "colab": {
          "base_uri": "https://localhost:8080/"
        },
        "id": "nmGTpwUPtyD2",
        "outputId": "2f29a960-ce7a-4d4c-aa1c-a95016aaf628"
      },
      "source": [
        "print(\"Use BN and GN:\\n\")\r\n",
        "print(\"For Clean Validation Data:\\n\")\r\n",
        "N_puls_one_validation(c_v_y, c_new_y_hat)\r\n",
        "\r\n",
        "print(\"For Eyebrows Poisoned Data Under Multi-trigger:\\n\")\r\n",
        "N_puls_one_validation(e_p_y, e_new_y_hat)\r\n",
        "\r\n",
        "print(\"For Lipstick Poisoned Data Under Multi-trigger:\\n\")\r\n",
        "N_puls_one_validation(l_p_y, l_new_y_hat)\r\n",
        "\r\n",
        "print(\"For Sunglass Poisoned Data Under Multi-trigger:\\n\")\r\n",
        "N_puls_one_validation(s_p_y2, s_new_y_hat)"
      ],
      "execution_count": null,
      "outputs": [
        {
          "output_type": "stream",
          "text": [
            "Use BN and GN:\n",
            "\n",
            "For Clean Validation Data:\n",
            "\n",
            "Accuracy: 0.949077682514939\n",
            "\n",
            "\n",
            "\n",
            "For Eyebrows Poisoned Data Under Multi-trigger:\n",
            "\n",
            "Accuracy: 9.742790335151988e-05\n",
            "\n",
            "\n",
            "\n",
            "For Lipstick Poisoned Data Under Multi-trigger:\n",
            "\n",
            "Accuracy: 0.46463367108339826\n",
            "\n",
            "\n",
            "\n",
            "For Sunglass Poisoned Data Under Multi-trigger:\n",
            "\n",
            "Accuracy: 0.23265783320342948\n",
            "\n",
            "\n",
            "\n"
          ],
          "name": "stdout"
        }
      ]
    }
  ]
}